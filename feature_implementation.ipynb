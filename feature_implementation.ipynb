{
 "cells": [
  {
   "cell_type": "markdown",
   "id": "923f320a",
   "metadata": {},
   "source": [
    "# Loan Application Orchestration Pipeline Demo (Agent Orchestration)\n",
    "\n",
    "This notebook demonstrates the full loan application decision process **using the agent orchestration pipeline**. The orchestration function calls all tools and combines the results into a final summary."
   ]
  },
  {
   "cell_type": "code",
   "execution_count": 13,
   "id": "b565da64",
   "metadata": {},
   "outputs": [],
   "source": [
    "# Import required modules and orchestration pipeline\n",
    "from data_model import LoanApplicationJourney\n",
    "from utils.config_loader import ConfigLoader\n",
    "from orchestrator_pipeline import orchestrate_application\n",
    "from tools.synthesize_summary import synthesize_summary\n",
    "from agents import RunContextWrapper"
   ]
  },
  {
   "cell_type": "code",
   "execution_count": 35,
   "id": "e73cfe69",
   "metadata": {},
   "outputs": [],
   "source": [
    "# Create a test LoanApplicationJourney instance\n",
    "test_app = LoanApplicationJourney(\n",
    "    application_id=\"APP-LOCAL-001\",\n",
    "    submitted_time=\"2025-06-01T09:00:00\",\n",
    "    reviewed_time=\"2025-06-01T09:30:00\",\n",
    "    approved_time=\"2025-06-01T10:00:00\",\n",
    "    rejected_time=None,\n",
    "    processing_steps={\"KYC\": 72, \"CreditCheck\": 50, \"FinalApproval\": 35},\n",
    "    flagged_for_fraud=False,\n",
    "    monthly_income=50000,\n",
    "    monthly_costs=1000,\n",
    "    requested_amount=25000,\n",
    "    monthly_debt=400\n",
    ")"
   ]
  },
  {
   "cell_type": "code",
   "execution_count": 36,
   "id": "6c3251e6",
   "metadata": {},
   "outputs": [
    {
     "name": "stdout",
     "output_type": "stream",
     "text": [
      "Matching with: affordability=approve, fraud=False, sla=True\n"
     ]
    }
   ],
   "source": [
    "# Run the agent orchestration pipeline\n",
    "config = ConfigLoader()\n",
    "report = orchestrate_application(test_app, config=config)\n",
    "summary = synthesize_summary(RunContextWrapper(report))"
   ]
  },
  {
   "cell_type": "code",
   "execution_count": 37,
   "id": "03f339f3",
   "metadata": {},
   "outputs": [
    {
     "data": {
      "text/plain": [
       "{'application_id': 'APP-LOCAL-001',\n",
       " 'sla_result': 'SLA violations in: KYC, CreditCheck, FinalApproval',\n",
       " 'fraud_result': 'No fraud indicators detected',\n",
       " 'affordability_result': '✅ Good affordability',\n",
       " 'affordability_level': 'approve',\n",
       " 'recommendation': '✅ Audit trail valid and sequential | ✅ Good affordability',\n",
       " 'explanation': 'At least one process exceeded SLA limit.',\n",
       " 'timestamp': '2025-06-28T17:04:11.853585',\n",
       " 'final_decision': 'Undetermined',\n",
       " 'explanation_sources': {},\n",
       " 'summary_text': '✉️ **Loan Decision Summary**\\n- Application ID: APP-LOCAL-001\\n- Final Decision: Undetermined\\n- SLA Result: SLA violations in: KYC, CreditCheck, FinalApproval\\n- Fraud Result: No fraud indicators detected\\n- Affordability: ✅ Good affordability (approve)\\n- Recommendation: ✅ Audit trail valid and sequential | ✅ Good affordability\\n- Explanation: At least one process exceeded SLA limit.\\n- Timestamp: 2025-06-28T17:04:11.853585'}"
      ]
     },
     "execution_count": 37,
     "metadata": {},
     "output_type": "execute_result"
    }
   ],
   "source": [
    "summary"
   ]
  },
  {
   "cell_type": "markdown",
   "id": "7788dba8",
   "metadata": {},
   "source": [
    "## Integrate and demonstrate the agents"
   ]
  },
  {
   "cell_type": "code",
   "execution_count": 28,
   "id": "28da2a9d",
   "metadata": {},
   "outputs": [
    {
     "data": {
      "text/plain": [
       "True"
      ]
     },
     "execution_count": 28,
     "metadata": {},
     "output_type": "execute_result"
    }
   ],
   "source": [
    "from dotenv import load_dotenv\n",
    "load_dotenv(\"/Users/luca.dicarlo/.secrets_file\", override=True)"
   ]
  },
  {
   "cell_type": "code",
   "execution_count": 29,
   "id": "e42999b2",
   "metadata": {},
   "outputs": [],
   "source": [
    "# Import agent objects\n",
    "from agents.fraud_agent import fraud_agent\n",
    "from agents.sla_agent import sla_agent\n",
    "from agents.recommendation_agent import recommendation_agent\n",
    "from agents.orchestrator_agent import orchestrator_agent\n",
    "from agents.report_agent import report_agent"
   ]
  },
  {
   "cell_type": "code",
   "execution_count": 30,
   "id": "a3b0f8a5",
   "metadata": {},
   "outputs": [
    {
     "name": "stdout",
     "output_type": "stream",
     "text": [
      "Fraud Agent Result: {'flagged': False, 'label': 'No fraud indicators detected', 'risk_score': 0.0, 'triggered_rules': [], 'explanation': 'No indicators present'}\n"
     ]
    }
   ],
   "source": [
    "# Example: Use fraud_agent to check for fraud indicators (sync call for demo)\n",
    "fraud_result = fraud_agent.tools[0](RunContextWrapper(test_app))\n",
    "print('Fraud Agent Result:', fraud_result)"
   ]
  },
  {
   "cell_type": "code",
   "execution_count": 21,
   "id": "01f55868",
   "metadata": {},
   "outputs": [
    {
     "name": "stdout",
     "output_type": "stream",
     "text": [
      "SLA Agent Result: {'violated': True, 'label': 'SLA violations in: KYC', 'violated_steps': ['KYC'], 'explanation': 'Steps exceeded configured SLA limits.'}\n"
     ]
    }
   ],
   "source": [
    "# Example: Use sla_agent to check SLA compliance (sync call for demo)\n",
    "sla_result = sla_agent.tools[0](RunContextWrapper(test_app))\n",
    "print('SLA Agent Result:', sla_result)"
   ]
  },
  {
   "cell_type": "code",
   "execution_count": 22,
   "id": "73656888",
   "metadata": {},
   "outputs": [
    {
     "name": "stdout",
     "output_type": "stream",
     "text": [
      "Recommendation Agent Result: <coroutine object Agent.run at 0x7f98c81e6b20>\n"
     ]
    }
   ],
   "source": [
    "# Example: Use recommendation_agent to get a recommendation (sync call for demo)\n",
    "rec_result = recommendation_agent.run('Provide recommendation', context=test_app)\n",
    "print('Recommendation Agent Result:', getattr(rec_result, 'final_output', rec_result))"
   ]
  },
  {
   "cell_type": "code",
   "execution_count": 23,
   "id": "81dbb6dd",
   "metadata": {},
   "outputs": [
    {
     "name": "stdout",
     "output_type": "stream",
     "text": [
      "Orchestrator Agent Result: {'violated': True, 'label': 'SLA violations in: KYC', 'violated_steps': ['KYC'], 'explanation': 'Steps exceeded configured SLA limits.'}\n"
     ]
    }
   ],
   "source": [
    "# Example: Use orchestrator_agent to run the full orchestration (sync call for demo)\n",
    "orc_result = orchestrator_agent.tools[0](RunContextWrapper(test_app))\n",
    "print('Orchestrator Agent Result:', orc_result)"
   ]
  },
  {
   "cell_type": "code",
   "execution_count": 24,
   "id": "21e909ea",
   "metadata": {},
   "outputs": [
    {
     "name": "stdout",
     "output_type": "stream",
     "text": [
      "Report Agent Result: {'application_id': 'APP-LOCAL-001', 'sla_result': 'SLA violations in: KYC, FinalApproval', 'fraud_result': 'No fraud indicators detected', 'affordability_result': '❌ Low affordability score', 'affordability_level': 'reject', 'recommendation': '✅ Audit trail valid and sequential | ❌ Low affordability score', 'explanation': 'Income to debt ratio exceeds safe threshold. At least one process exceeded SLA limit.', 'timestamp': '2025-06-28T15:35:08.529469', 'final_decision': '❌ Reject due to affordability and delay', 'explanation_sources': {}, 'summary_text': '✉️ **Loan Decision Summary**\\n- Application ID: APP-LOCAL-001\\n- Final Decision: ❌ Reject due to affordability and delay\\n- SLA Result: SLA violations in: KYC, FinalApproval\\n- Fraud Result: No fraud indicators detected\\n- Affordability: ❌ Low affordability score (reject)\\n- Recommendation: ✅ Audit trail valid and sequential | ❌ Low affordability score\\n- Explanation: Income to debt ratio exceeds safe threshold. At least one process exceeded SLA limit.\\n- Timestamp: 2025-06-28T15:35:08.529469'}\n"
     ]
    }
   ],
   "source": [
    "# Example: Use report_agent to synthesize the summary (sync call for demo)\n",
    "rep_result = report_agent.tools[0](RunContextWrapper(report))\n",
    "print('Report Agent Result:', rep_result)"
   ]
  },
  {
   "cell_type": "code",
   "execution_count": null,
   "id": "bdb58417",
   "metadata": {},
   "outputs": [],
   "source": []
  }
 ],
 "metadata": {
  "kernelspec": {
   "display_name": "venv",
   "language": "python",
   "name": "python3"
  },
  "language_info": {
   "codemirror_mode": {
    "name": "ipython",
    "version": 3
   },
   "file_extension": ".py",
   "mimetype": "text/x-python",
   "name": "python",
   "nbconvert_exporter": "python",
   "pygments_lexer": "ipython3",
   "version": "3.10.13"
  }
 },
 "nbformat": 4,
 "nbformat_minor": 5
}
