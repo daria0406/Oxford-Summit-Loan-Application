{
 "cells": [
  {
   "cell_type": "markdown",
   "id": "923f320a",
   "metadata": {},
   "source": [
    "# Loan Application Orchestration Pipeline Demo (Agent Orchestration)\n",
    "\n",
    "This notebook demonstrates the full loan application decision process **using the agent orchestration pipeline**. The orchestration function calls all tools and combines the results into a final summary."
   ]
  },
  {
   "cell_type": "code",
   "execution_count": 8,
   "id": "b565da64",
   "metadata": {},
   "outputs": [],
   "source": [
    "from dotenv import load_dotenv\n",
    "load_dotenv(\"env\", override=True)\n",
    "\n",
    "# Import required modules and orchestration pipeline\n",
    "from data_model import LoanApplicationJourney\n",
    "from utils.config_loader import ConfigLoader\n",
    "from orchestrator_pipeline import orchestrate_application\n",
    "from tools.synthesize_summary import synthesize_summary\n",
    "from agents import RunContextWrapper\n",
    "\n",
    "# Import agent objects\n",
    "from agents.fraud_agent import fraud_agent\n",
    "from agents.sla_agent import sla_agent\n",
    "from agents.recommendation_agent import recommendation_agent\n",
    "from agents.orchestrator_agent import orchestrator_agent\n",
    "from agents.report_agent import report_agent\n",
    "from agents.interest_rate_agent import interest_rate_agent"
   ]
  },
  {
   "cell_type": "markdown",
   "id": "b75f66be",
   "metadata": {},
   "source": [
    "#### Test example"
   ]
  },
  {
   "cell_type": "code",
   "execution_count": null,
   "id": "e73cfe69",
   "metadata": {},
   "outputs": [],
   "source": [
    "# Create a test LoanApplicationJourney instance\n",
    "test_app = LoanApplicationJourney(\n",
    "    application_id=\"APP-LOCAL-001\",\n",
    "    submitted_time=\"2025-06-01T09:00:00\",\n",
    "    reviewed_time=\"2025-06-01T09:30:00\",\n",
    "    approved_time=\"2025-06-01T10:00:00\",\n",
    "    rejected_time=None,\n",
    "    processing_steps={\"KYC\": 72, \"CreditCheck\": 50, \"FinalApproval\": 35},\n",
    "    flagged_for_fraud=False,\n",
    "    monthly_income=50000,\n",
    "    monthly_costs=1000,\n",
    "    requested_amount=25000,\n",
    "    monthly_debt=400\n",
    ")"
   ]
  },
  {
   "cell_type": "code",
   "execution_count": null,
   "id": "6c3251e6",
   "metadata": {},
   "outputs": [],
   "source": [
    "# # Run the agent orchestration pipeline\n",
    "# config = ConfigLoader()\n",
    "# report = orchestrate_application(test_app, config=config)\n",
    "# summary = synthesize_summary(RunContextWrapper(report))"
   ]
  },
  {
   "cell_type": "code",
   "execution_count": null,
   "id": "03f339f3",
   "metadata": {},
   "outputs": [],
   "source": [
    "# summary"
   ]
  },
  {
   "cell_type": "markdown",
   "id": "7788dba8",
   "metadata": {},
   "source": [
    "## Integrate and demonstrate the agents"
   ]
  },
  {
   "cell_type": "code",
   "execution_count": null,
   "id": "825546ee",
   "metadata": {},
   "outputs": [],
   "source": [
    "# Example: Use interest_rate_agent to check for interest rate (sync call for demo)\n",
    "interest_rate_result = interest_rate_agent.tools[0](RunContextWrapper(test_app))\n",
    "print('Interest Rate Agent Result:', interest_rate_result)\n"
   ]
  },
  {
   "cell_type": "code",
   "execution_count": null,
   "id": "a3b0f8a5",
   "metadata": {},
   "outputs": [],
   "source": [
    "# Example: Use fraud_agent to check for fraud indicators (sync call for demo)\n",
    "fraud_result = fraud_agent.tools[0](RunContextWrapper(test_app))\n",
    "print('Fraud Agent Result:', fraud_result)"
   ]
  },
  {
   "cell_type": "code",
   "execution_count": null,
   "id": "01f55868",
   "metadata": {},
   "outputs": [],
   "source": [
    "# Example: Use sla_agent to check SLA compliance (sync call for demo)\n",
    "sla_result = sla_agent.tools[0](RunContextWrapper(test_app))\n",
    "print('SLA Agent Result:', sla_result)"
   ]
  },
  {
   "cell_type": "code",
   "execution_count": null,
   "id": "73656888",
   "metadata": {},
   "outputs": [],
   "source": [
    "# Example: Use recommendation_agent to get a recommendation (sync call for demo)\n",
    "rec_result = recommendation_agent.run('Provide recommendation', context=test_app)\n",
    "print('Recommendation Agent Result:', getattr(rec_result, 'final_output', rec_result))"
   ]
  },
  {
   "cell_type": "code",
   "execution_count": null,
   "id": "81dbb6dd",
   "metadata": {},
   "outputs": [],
   "source": [
    "# Example: Use orchestrator_agent to run the full orchestration (sync call for demo)\n",
    "orc_result = orchestrator_agent.tools[0](RunContextWrapper(test_app))\n",
    "print('Orchestrator Agent Result:', orc_result)"
   ]
  },
  {
   "cell_type": "code",
   "execution_count": null,
   "id": "21e909ea",
   "metadata": {},
   "outputs": [],
   "source": [
    "# Example: Use report_agent to synthesize the summary (sync call for demo)\n",
    "rep_result = report_agent.tools[0](RunContextWrapper(report))\n",
    "print('Report Agent Result:', rep_result)"
   ]
  },
  {
   "cell_type": "code",
   "execution_count": null,
   "id": "bdb58417",
   "metadata": {},
   "outputs": [],
   "source": []
  }
 ],
 "metadata": {
  "kernelspec": {
   "display_name": "venv",
   "language": "python",
   "name": "python3"
  },
  "language_info": {
   "codemirror_mode": {
    "name": "ipython",
    "version": 3
   },
   "file_extension": ".py",
   "mimetype": "text/x-python",
   "name": "python",
   "nbconvert_exporter": "python",
   "pygments_lexer": "ipython3",
   "version": "3.11.8"
  }
 },
 "nbformat": 4,
 "nbformat_minor": 5
}
