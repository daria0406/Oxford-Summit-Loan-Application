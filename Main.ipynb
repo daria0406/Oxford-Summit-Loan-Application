{
 "cells": [
  {
   "cell_type": "markdown",
   "id": "923f320a",
   "metadata": {},
   "source": [
    "# Deterministic Agent Workflow for Financial Services - Loan Application Processing\n",
    "\n",
    "This notebook demonstrates a complete **deterministic agent pipeline** for automating a loan application decision process proposed by Team 5 (Full Code) as part of the **Oxford Artificial Intelligence Summit 2025: Autonomous AI Agents** capstone project. The workflow runs a fixed sequence of agent tools and combines their results into a final summary, which is then emailed using a Zapier workflow and MCP integration.\n",
    "\n",
    "A deterministic workflow was chosen for this project to ensure transparency, reproducibility, and ease of auditing in the loan decision process. By following a clearly defined sequence of steps, the workflow guarantees that every application is evaluated consistently according to the same business rules, making it ideal for regulated environments where explainability and compliance are critical.\n",
    "\n",
    "The two main sections of this notebook are: \n",
    "1. **Deterministic Workflow** — simple baseline flow with hardcoded loan application data\n",
    "2. **Enhanced Flow** — calls the Zapier MCP server for composing and emailing the final recommendation\n",
    "\n",
    "Each stage includes **code, agent tool calls, and clear markdown explanations** to guide you through the deterministic process.\n",
    "\n",
    "## A recording of the following notebook can be found at: https://drive.google.com/file/d/1D9eE0zmAheB5F5wQgN9EI0KOce2YURTM/view?usp=sharing"
   ]
  },
  {
   "cell_type": "markdown",
   "id": "864754ab",
   "metadata": {},
   "source": [
    "## Initial Setup"
   ]
  },
  {
   "cell_type": "code",
   "execution_count": null,
   "id": "8094c196",
   "metadata": {},
   "outputs": [],
   "source": [
    "!pip install -r requirements.txt"
   ]
  },
  {
   "cell_type": "markdown",
   "id": "67ff4042",
   "metadata": {},
   "source": [
    "## Set up OpenAI API Key and Zapier webhook URL\n",
    "\n",
    "1. **Get your OpenAI API Key:**\n",
    "   - Go to [https://platform.openai.com/api-keys](https://platform.openai.com/api-keys).\n",
    "   - Log in or sign up for an OpenAI account.\n",
    "   - Click \"Create new secret key\" and copy the generated key.\n",
    "\n",
    "2. **Create a Zapier Webhook URL:**\n",
    "   - Log in to your [Zapier](https://zapier.com/) account.\n",
    "   - Click \"Create Zap\".\n",
    "   - For the trigger, search for and select **Webhooks by Zapier**.\n",
    "   - Choose the **Catch Hook** event and continue.\n",
    "   - Copy the custom webhook URL Zapier provides.\n",
    "   - Add a \"send email\" action from Gmail.\n",
    "\n",
    "3. **Create a `.env` file in your project folder with the following content:**\n",
    "   ```env\n",
    "   OPENAI_API_KEY=your-openai-key-here\n",
    "   MCP_SERVER_URL_SSE=https://hooks.zapier.com/hooks/catch/your_zapier_id/your_path/\n"
   ]
  },
  {
   "cell_type": "markdown",
   "id": "a03ce391",
   "metadata": {},
   "source": [
    "## Load in dependencies\n"
   ]
  },
  {
   "cell_type": "code",
   "execution_count": 2,
   "id": "b565da64",
   "metadata": {},
   "outputs": [],
   "source": [
    "from dotenv import load_dotenv\n",
    "load_dotenv(\".env\", override=True)\n",
    "\n",
    "# Import required modules and orchestration pipeline\n",
    "from data_model import LoanApplicationJourney\n",
    "from agents import RunContextWrapper, function_tool, CodeInterpreterTool, AgentOutputSchema, Agent, Runner\n",
    "\n",
    "# Import agent objects\n",
    "from agents.fraud_agent import fraud_agent\n",
    "from agents.sla_agent import sla_agent\n",
    "from agents.recommendation_agent import get_recommendation\n",
    "from agents.report_agent import report_agent\n",
    "from agents.interest_rate_agent import interest_rate_agent\n",
    "\n",
    "# Load Zapier objects\n",
    "from mcp.zappier_channel import ZapierChannel\n",
    "import os"
   ]
  },
  {
   "cell_type": "markdown",
   "id": "b75f66be",
   "metadata": {},
   "source": [
    "## Part 1: Deterministic Workflow – Baseline Agent Flow\n",
    "\n",
    "For the deterministic flow, the steps of the pipeline are:\n",
    "1. 🛡️ Check for fraud.\n",
    "2. ⏱️ Do an SLA check.\n",
    "3. 💸 Interest rate check.\n",
    "4. 📝 Make a recommendation for the loan application.\n",
    "\n",
    "#### 1.1 **Use function tools defined in the **tools/** folder to analyze fraud, SLA and interest rate and provide the Loan Application Journey object as context to be available to the tools**\n",
    "\n",
    "These function are defined in the following **tools/** files, which you can notice in the panel on the left:\n",
    "- check_fraud.py\n",
    "- check_sla.py\n",
    "- check_acceptability_threshold.py \n",
    "- synthesize_summary.py\n",
    "\n",
    "#### 1.2 **Define fraud_agent, sla_agent, interest_rate_agent and recommendation_agent and provide the PatientJourney object as context to the agents**\n",
    "The agents are defined in the following Python files in the **agents/** folder:\n",
    "- fraud_agent.py\n",
    "- sla_agent.py\n",
    "- interest_rate_agent.py\n",
    "- recommendation_agent.py\n",
    "\n",
    "#### 1.3 **Define the sequence of agents for deterministic flow**"
   ]
  },
  {
   "cell_type": "code",
   "execution_count": 3,
   "id": "20754217",
   "metadata": {},
   "outputs": [],
   "source": [
    "def deterministic_agent_pipeline(test_app):\n",
    "    \"\"\"\n",
    "    Orchestrates the deterministic loan application pipeline:\n",
    "    1. Runs fraud detection on the application.\n",
    "    2. Performs SLA compliance check.\n",
    "    3. Calculates the interest rate.\n",
    "    4. Generates a recommendation based on the above results.\n",
    "    \"\"\"\n",
    "    # deterministic orchestration of the loan application process\n",
    "    fraud_result = fraud_agent.tools[0](RunContextWrapper(test_app))\n",
    "    sla_result = sla_agent.tools[0](RunContextWrapper(test_app))\n",
    "    interest_rate_result = interest_rate_agent.tools[0](RunContextWrapper(test_app))\n",
    "\n",
    "    # Get the recommendation based on the results of the previous steps\n",
    "    recommendation = get_recommendation(fraud_result, sla_result, interest_rate_result)\n",
    "    print(\"Recommendation:\", recommendation)\n",
    "\n",
    "    # Prepare the context for the report agent\n",
    "    final_context = {\n",
    "        \"recommendation\": recommendation,\n",
    "        \"fraud_result\": fraud_result,\n",
    "        \"sla_result\": sla_result,\n",
    "        \"interest_rate_result\": interest_rate_result\n",
    "    }\n",
    "\n",
    "    # Generate the summary report\n",
    "    report_result = report_agent.tools[0](RunContextWrapper(final_context))\n",
    "    print(\"System Summary Report:\\n\", report_result)\n",
    "    return report_result\n"
   ]
  },
  {
   "cell_type": "markdown",
   "id": "c42c5e31",
   "metadata": {},
   "source": [
    "\n",
    "#### 1.4 **Define Sample Data**\n",
    "#### In the sample data below, one can notice the \"KYC indicator\". \n",
    "\n",
    "KYC stands for Know Your Customer.It is a process used by financial institutions and other regulated companies to:\n",
    "- Verify the identity of their clients.\n",
    "- Understand the nature of the customer’s activities (to ensure they're legitimate).\n",
    "- Assess the risk of illegal intentions, like money laundering, fraud, or terrorist financing.\n",
    "\n"
   ]
  },
  {
   "cell_type": "code",
   "execution_count": 4,
   "id": "e73cfe69",
   "metadata": {},
   "outputs": [],
   "source": [
    "# Create a test LoanApplicationJourney instance\n",
    "test_app = LoanApplicationJourney(#\n",
    "    application_id=\"APP-LOCAL-001\",\n",
    "    submitted_time=\"2025-06-01T09:00:00\",\n",
    "    reviewed_time=\"2025-06-01T09:30:00\",\n",
    "    approved_time=\"2025-06-01T10:00:00\",\n",
    "    rejected_time=None,\n",
    "    processing_steps={\"KYC\": 72, \"CreditCheck\": 50, \"FinalApproval\": 35},\n",
    "    flagged_for_fraud=False,\n",
    "    monthly_income=50000,\n",
    "    monthly_costs=1000,\n",
    "    requested_amount=25000,\n",
    "    monthly_debt=400\n",
    ")"
   ]
  },
  {
   "cell_type": "markdown",
   "id": "7788dba8",
   "metadata": {},
   "source": [
    "#### 1.5 **Execute deterministic flow by providing sample data** "
   ]
  },
  {
   "cell_type": "code",
   "execution_count": 5,
   "id": "91558719",
   "metadata": {},
   "outputs": [
    {
     "name": "stderr",
     "output_type": "stream",
     "text": [
      "/Users/dariaz/Desktop/Oxford AI Summit - Full code summit assignment/Oxford-Summit-Loan-Application/tools/check_acceptability_threshold.py:39: FutureWarning: Series.__getitem__ treating keys as positions is deprecated. In a future version, integer keys will always be treated as labels (consistent with DataFrame behavior). To access a value by position, use `ser.iloc[pos]`\n",
      "  latest_rate = hist['Close'][-1]\n"
     ]
    },
    {
     "name": "stdout",
     "output_type": "stream",
     "text": [
      "Recommendation: **Recommendation: Reject the Loan Application**\n",
      "\n",
      "While the fraud risk assessment indicates no indicators of fraud and the interest rate results are excellent, the SLA compliance has been violated due to issues in the KYC process. This violation raises concerns about the thoroughness of the application review. Therefore, it is advisable to reject the loan application until the KYC steps are completed within the configured SLA limits.\n",
      "System Summary Report:\n",
      " 📋 Loan Application System Summary\n",
      "    \n",
      "This report summarizes the analysis of the loan application system.\n",
      "Recommendation: **Recommendation: Reject the Loan Application**\n",
      "\n",
      "While the fraud risk assessment indicates no indicators of fraud and the interest rate results are excellent, the SLA compliance has been violated due to issues in the KYC process. This violation raises concerns about the thoroughness of the application review. Therefore, it is advisable to reject the loan application until the KYC steps are completed within the configured SLA limits.\n",
      "Fraud Result: {'flagged': False, 'label': 'No fraud indicators detected', 'risk_score': 0.0, 'triggered_rules': [], 'explanation': 'No indicators present'}\n",
      "SLA Result: {'violated': True, 'label': 'SLA violations in: KYC', 'violated_steps': ['KYC'], 'explanation': 'Steps exceeded configured SLA limits.'}\n",
      "Interest Rate Result: {'level': 'approve', 'label': 'Excellent'}\n",
      "\n",
      "Regards,\n",
      "Team 5 - Loan Application Agent\n",
      "\n"
     ]
    },
    {
     "data": {
      "text/plain": [
       "\"📋 Loan Application System Summary\\n    \\nThis report summarizes the analysis of the loan application system.\\nRecommendation: **Recommendation: Reject the Loan Application**\\n\\nWhile the fraud risk assessment indicates no indicators of fraud and the interest rate results are excellent, the SLA compliance has been violated due to issues in the KYC process. This violation raises concerns about the thoroughness of the application review. Therefore, it is advisable to reject the loan application until the KYC steps are completed within the configured SLA limits.\\nFraud Result: {'flagged': False, 'label': 'No fraud indicators detected', 'risk_score': 0.0, 'triggered_rules': [], 'explanation': 'No indicators present'}\\nSLA Result: {'violated': True, 'label': 'SLA violations in: KYC', 'violated_steps': ['KYC'], 'explanation': 'Steps exceeded configured SLA limits.'}\\nInterest Rate Result: {'level': 'approve', 'label': 'Excellent'}\\n\\nRegards,\\nTeam 5 - Loan Application Agent\\n\""
      ]
     },
     "execution_count": 5,
     "metadata": {},
     "output_type": "execute_result"
    }
   ],
   "source": [
    "report_result = deterministic_agent_pipeline(test_app)\n",
    "report_result"
   ]
  },
  {
   "cell_type": "markdown",
   "id": "a53120c3",
   "metadata": {},
   "source": [
    "# Part 2: Enhanced Workflow\n",
    "\n",
    "### 2.2 **Email Report via MCPTool and Zapier Gmail**\n",
    "\n",
    "This final part demonstrates the **usage of MCP**:\n",
    "- A report agent is called dynamically to generate a system summary\n",
    "- The output is sent as an email using `MCPServerSSE` (which calls a Zapier Gmail webhook)"
   ]
  },
  {
   "cell_type": "markdown",
   "id": "5231e63d",
   "metadata": {},
   "source": [
    "#### 2.1.1 **A function for synthesizing the report is implemented**"
   ]
  },
  {
   "cell_type": "code",
   "execution_count": 6,
   "id": "3e62fc5f",
   "metadata": {},
   "outputs": [],
   "source": [
    "@function_tool()\n",
    "def synthesize_report(wrapper: RunContextWrapper[dict]) -> str:\n",
    "    context = wrapper.context\n",
    "    return f\"\"\"📋 Loan Application System Summary\n",
    "Dear {context.get('to', 'Daria Zahaleanu')},\n",
    "Recommendation: {context.get('recommendation', 'No recommendation')}\n",
    "Fraud Result: {context.get('fraud_result')}\n",
    "SLA Result: {context.get('sla_result')}\n",
    "Interest Rate Result: {context.get('interest_rate_result')}\n",
    "\n",
    "Regards,\n",
    "Team 5 - Loan Application Agent\n",
    "\"\"\""
   ]
  },
  {
   "cell_type": "markdown",
   "id": "0fa0ea91",
   "metadata": {},
   "source": [
    "#### 2.1.2 **MCP Implementation**\n",
    "\n",
    "- mcp/zappier_channel.py : MCPChannel is an abstract base class that defines a common interface for communication channels.\n",
    "- mcp/mcp.py :This defines a ZapierChannel class that extends a messaging channel interface (MCPChannel) to send messages to a Zapier webhook URL. \n",
    "\n",
    "**When the ZapierChannel is called with the send method, it packages the messages into JSON and POSTs them to the configured Zapier webhook, enabling the system to trigger Zapier workflows or integrations based on agent events or outputs.**\n",
    "\n"
   ]
  },
  {
   "cell_type": "code",
   "execution_count": 7,
   "id": "fde8e21a",
   "metadata": {},
   "outputs": [
    {
     "data": {
      "text/plain": [
       "\"📋 Loan Application System Summary\\n    \\nThis report summarizes the analysis of the loan application system.\\nRecommendation: **Recommendation: Reject the Loan Application**\\n\\nWhile the fraud risk assessment indicates no indicators of fraud and the interest rate results are excellent, the SLA compliance has been violated due to issues in the KYC process. This violation raises concerns about the thoroughness of the application review. Therefore, it is advisable to reject the loan application until the KYC steps are completed within the configured SLA limits.\\nFraud Result: {'flagged': False, 'label': 'No fraud indicators detected', 'risk_score': 0.0, 'triggered_rules': [], 'explanation': 'No indicators present'}\\nSLA Result: {'violated': True, 'label': 'SLA violations in: KYC', 'violated_steps': ['KYC'], 'explanation': 'Steps exceeded configured SLA limits.'}\\nInterest Rate Result: {'level': 'approve', 'label': 'Excellent'}\\n\\nRegards,\\nTeam 5 - Loan Application Agent\\n\""
      ]
     },
     "execution_count": 7,
     "metadata": {},
     "output_type": "execute_result"
    }
   ],
   "source": [
    "#Report to sent out by email\n",
    "report_result"
   ]
  },
  {
   "cell_type": "code",
   "execution_count": 8,
   "id": "70f5eb17",
   "metadata": {},
   "outputs": [
    {
     "name": "stdout",
     "output_type": "stream",
     "text": [
      "✅ Report sent via Zapier email webhook.\n"
     ]
    }
   ],
   "source": [
    "zapier_url = os.getenv(\"MCP_SERVER_URL_SSE\", \"https://hooks.zapier.com/hooks/catch/your_zapier_id/your_path/\")\n",
    "\n",
    "zapier_channel = ZapierChannel(webhook_url=zapier_url)\n",
    "\n",
    " # Send the report via Zapier\n",
    "zapier_channel.send(\n",
    "        message=report_result,\n",
    "        metadata={\"subject\": \"Loan Application Recommendation\", \"to\": \"anadaria.zahaleanu@gmail.com\"}\n",
    "    )\n",
    "\n",
    "print(\"✅ Report sent via Zapier email webhook.\")\n"
   ]
  },
  {
   "cell_type": "markdown",
   "id": "e8db161d",
   "metadata": {},
   "source": [
    "### Further Work: Extending a Deterministic Workflow with the Agents-as-Tools Pattern\n",
    "\n",
    "An Agents-as-Tools architecture could be applied to the current deterministic flow of the agents by:\n",
    "\n",
    "- Introducing a central orchestrator agent that supervises the workflow instead of a hardcoded sequence defined in the config.json file\n",
    "- Letting the orchestrator dynamically choose which agent tools to invoke next based on intermediate outputs (e.g., risk assessment, credit score analysis)\n",
    "- Supporting conditional branching and iterative refinement where, for example, additional agents (like fraud detection or document verification) can be called only if certain flags are raised.\n",
    "\n",
    "\n"
   ]
  },
  {
   "cell_type": "markdown",
   "id": "b905689c",
   "metadata": {},
   "source": [
    "### Conclusion\n",
    "The current deterministic approach provides a strong foundation for compliance, auditability, and explainability in loan decisions. \n",
    "\n",
    "By clearly documenting each step, tool, and rationale, it makes the entire pipeline understandable and maintainable. \n",
    "\n",
    "Additionally, it leverages well-defined agent tools to separate concerns effectively , such as credit checks, risk scoring, and report generation, ensuring modularity and clarity throughout the process.\n",
    "\n",
    "\n"
   ]
  },
  {
   "cell_type": "markdown",
   "id": "5a238029",
   "metadata": {},
   "source": []
  }
 ],
 "metadata": {
  "kernelspec": {
   "display_name": "Python 3",
   "language": "python",
   "name": "python3"
  },
  "language_info": {
   "codemirror_mode": {
    "name": "ipython",
    "version": 3
   },
   "file_extension": ".py",
   "mimetype": "text/x-python",
   "name": "python",
   "nbconvert_exporter": "python",
   "pygments_lexer": "ipython3",
   "version": "3.10.2"
  }
 },
 "nbformat": 4,
 "nbformat_minor": 5
}
