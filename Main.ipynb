{
 "cells": [
  {
   "cell_type": "markdown",
   "id": "923f320a",
   "metadata": {},
   "source": [
    "# Loan Application Orchestration Pipeline (Agent Orchestration)\n",
    "\n",
    "This notebook demonstrates the full loan application decision process **using the agent orchestration pipeline**. The orchestration function calls all tools and combines the results into a final summary that will be emailed using Zapier workflow and MCP.\n",
    "\n",
    "The steps of the pipeline are:\n",
    "1. Check for fraud.\n",
    "2. Do an SLA check.\n",
    "3. Interest rate check.\n",
    "4. Make a recommendation for the loan application.\n",
    "5. Trigger an email workflow to send an email of the decision."
   ]
  },
  {
   "cell_type": "markdown",
   "id": "a03ce391",
   "metadata": {},
   "source": [
    "##### Load in dependencies\n"
   ]
  },
  {
   "cell_type": "code",
   "execution_count": 9,
   "id": "b565da64",
   "metadata": {},
   "outputs": [
    {
     "ename": "ModuleNotFoundError",
     "evalue": "No module named 'mcp.zapier_channel'",
     "output_type": "error",
     "traceback": [
      "\u001b[31m---------------------------------------------------------------------------\u001b[39m",
      "\u001b[31mModuleNotFoundError\u001b[39m                       Traceback (most recent call last)",
      "\u001b[36mCell\u001b[39m\u001b[36m \u001b[39m\u001b[32mIn[9]\u001b[39m\u001b[32m, line 16\u001b[39m\n\u001b[32m     13\u001b[39m \u001b[38;5;28;01mfrom\u001b[39;00m\u001b[38;5;250m \u001b[39m\u001b[34;01magents\u001b[39;00m\u001b[34;01m.\u001b[39;00m\u001b[34;01minterest_rate_agent\u001b[39;00m\u001b[38;5;250m \u001b[39m\u001b[38;5;28;01mimport\u001b[39;00m interest_rate_agent\n\u001b[32m     15\u001b[39m \u001b[38;5;66;03m# Load Zapier objects\u001b[39;00m\n\u001b[32m---> \u001b[39m\u001b[32m16\u001b[39m \u001b[38;5;28;01mfrom\u001b[39;00m\u001b[38;5;250m \u001b[39m\u001b[34;01mmcp\u001b[39;00m\u001b[34;01m.\u001b[39;00m\u001b[34;01mzapier_channel\u001b[39;00m\u001b[38;5;250m \u001b[39m\u001b[38;5;28;01mimport\u001b[39;00m ZapierChannel\n\u001b[32m     17\u001b[39m \u001b[38;5;28;01mimport\u001b[39;00m\u001b[38;5;250m \u001b[39m\u001b[34;01mos\u001b[39;00m\n",
      "\u001b[31mModuleNotFoundError\u001b[39m: No module named 'mcp.zapier_channel'"
     ]
    }
   ],
   "source": [
    "from dotenv import load_dotenv\n",
    "load_dotenv(\".env\", override=True)\n",
    "\n",
    "# Import required modules and orchestration pipeline\n",
    "from data_model import LoanApplicationJourney\n",
    "from agents import RunContextWrapper\n",
    "\n",
    "# Import agent objects\n",
    "from agents.fraud_agent import fraud_agent\n",
    "from agents.sla_agent import sla_agent\n",
    "from agents.recommendation_agent import get_recommendation\n",
    "from agents.report_agent import report_agent\n",
    "from agents.interest_rate_agent import interest_rate_agent\n",
    "\n",
    "# Load Zapier objects\n",
    "from mcp.zapier_channel import ZapierChannel\n",
    "import os"
   ]
  },
  {
   "cell_type": "markdown",
   "id": "b75f66be",
   "metadata": {},
   "source": [
    "#### Create a test loan application"
   ]
  },
  {
   "cell_type": "code",
   "execution_count": 10,
   "id": "e73cfe69",
   "metadata": {},
   "outputs": [],
   "source": [
    "# Create a test LoanApplicationJourney instance\n",
    "test_app = LoanApplicationJourney(\n",
    "    application_id=\"APP-LOCAL-001\",\n",
    "    submitted_time=\"2025-06-01T09:00:00\",\n",
    "    reviewed_time=\"2025-06-01T09:30:00\",\n",
    "    approved_time=\"2025-06-01T10:00:00\",\n",
    "    rejected_time=None,\n",
    "    processing_steps={\"KYC\": 72, \"CreditCheck\": 50, \"FinalApproval\": 35},\n",
    "    flagged_for_fraud=False,\n",
    "    monthly_income=50000,\n",
    "    monthly_costs=1000,\n",
    "    requested_amount=25000,\n",
    "    monthly_debt=400\n",
    ")"
   ]
  },
  {
   "cell_type": "markdown",
   "id": "7788dba8",
   "metadata": {},
   "source": [
    "#### Create a deterministic pipeline"
   ]
  },
  {
   "cell_type": "code",
   "execution_count": 11,
   "id": "70f5eb17",
   "metadata": {},
   "outputs": [],
   "source": [
    "def deterministic_agent_pipeline(test_app):\n",
    "    \"\"\"\n",
    "    Orchestrates the deterministic loan application pipeline:\n",
    "    1. Runs fraud detection on the application.\n",
    "    2. Performs SLA compliance check.\n",
    "    3. Calculates the interest rate.\n",
    "    4. Generates a recommendation based on the above results.\n",
    "    5. Prepares a summary report.\n",
    "    6. Sends the report via Zapier webhook.\n",
    "    \"\"\"\n",
    "    # deterministic orchestration of the loan application process\n",
    "    fraud_result = fraud_agent.tools[0](RunContextWrapper(test_app))\n",
    "    sla_result = sla_agent.tools[0](RunContextWrapper(test_app))\n",
    "    interest_rate_result = interest_rate_agent.tools[0](RunContextWrapper(test_app))\n",
    "\n",
    "    # Get the recommendation based on the results of the previous steps\n",
    "    recommendation = get_recommendation(fraud_result, sla_result, interest_rate_result)\n",
    "    print(\"Recommendation:\", recommendation)\n",
    "\n",
    "    # Prepare the context for the report agent\n",
    "    final_context = {\n",
    "        \"recommendation\": recommendation,\n",
    "        \"fraud_result\": fraud_result,\n",
    "        \"sla_result\": sla_result,\n",
    "        \"interest_rate_result\": interest_rate_result\n",
    "    }\n",
    "\n",
    "    # Generate the summary report\n",
    "    report_result = report_agent.tools[0](RunContextWrapper(final_context))\n",
    "    print(\"System Summary Report:\\n\", report_result)\n",
    "    # Set your Zapier webhook URL (from your environment or hardcoded for demo)\n",
    "    zapier_url = os.getenv(\"MCP_SERVER_URL_SSE\", \"https://hooks.zapier.com/hooks/catch/your_zapier_id/your_path/\")\n",
    "\n",
    "    zapier_channel = ZapierChannel(webhook_url=zapier_url)\n",
    "\n",
    "    # Send the report via Zapier\n",
    "    zapier_channel.send(\n",
    "        message=report_result,\n",
    "        metadata={\"subject\": \"Loan Application Recommendation\", \"to\": \"anadaria.zahaleanu@email.com\"}\n",
    "    )\n",
    "\n",
    "    return print(\"✅ Report sent via Zapier email webhook.\")\n"
   ]
  },
  {
   "cell_type": "markdown",
   "id": "e72ae559",
   "metadata": {},
   "source": [
    "#### Run the pipeline"
   ]
  },
  {
   "cell_type": "code",
   "execution_count": 12,
   "id": "48209804",
   "metadata": {},
   "outputs": [
    {
     "name": "stderr",
     "output_type": "stream",
     "text": [
      "/Users/lucadicarlo/Documents/Projects/Oxford-Summit-Loan-Application/agents/interest_rate_agent.py:17: FutureWarning: Series.__getitem__ treating keys as positions is deprecated. In a future version, integer keys will always be treated as labels (consistent with DataFrame behavior). To access a value by position, use `ser.iloc[pos]`\n",
      "  latest_rate = hist['Close'][-1]\n"
     ]
    },
    {
     "name": "stdout",
     "output_type": "stream",
     "text": [
      "Recommendation: **Recommendation: Reject the Loan Application**\n",
      "\n",
      "While the fraud risk assessment indicates no indicators of fraud and the interest rate result is excellent, the SLA compliance has been violated due to issues in the KYC process. This violation raises concerns about the thoroughness of the application review. Therefore, it is advisable to reject the loan application until the KYC compliance issues are resolved.\n",
      "System Summary Report:\n",
      " 📋 Loan Application System Summary\n",
      "Dear Daria Zahaleanu,\n",
      "Recommendation: **Recommendation: Reject the Loan Application**\n",
      "\n",
      "While the fraud risk assessment indicates no indicators of fraud and the interest rate result is excellent, the SLA compliance has been violated due to issues in the KYC process. This violation raises concerns about the thoroughness of the application review. Therefore, it is advisable to reject the loan application until the KYC compliance issues are resolved.\n",
      "Fraud Result: {'flagged': False, 'label': 'No fraud indicators detected', 'risk_score': 0.0, 'triggered_rules': [], 'explanation': 'No indicators present'}\n",
      "SLA Result: {'violated': True, 'label': 'SLA violations in: KYC', 'violated_steps': ['KYC'], 'explanation': 'Steps exceeded configured SLA limits.'}\n",
      "Interest Rate Result: {'level': 'approve', 'label': 'Excellent'}\n",
      "\n",
      "Regards,\n",
      "Team 5 - Loan Application Agent\n",
      "\n"
     ]
    },
    {
     "ename": "NameError",
     "evalue": "name 'os' is not defined",
     "output_type": "error",
     "traceback": [
      "\u001b[31m---------------------------------------------------------------------------\u001b[39m",
      "\u001b[31mNameError\u001b[39m                                 Traceback (most recent call last)",
      "\u001b[36mCell\u001b[39m\u001b[36m \u001b[39m\u001b[32mIn[12]\u001b[39m\u001b[32m, line 1\u001b[39m\n\u001b[32m----> \u001b[39m\u001b[32m1\u001b[39m \u001b[43mdeterministic_agent_pipeline\u001b[49m\u001b[43m(\u001b[49m\u001b[43mtest_app\u001b[49m\u001b[43m)\u001b[49m\n",
      "\u001b[36mCell\u001b[39m\u001b[36m \u001b[39m\u001b[32mIn[11]\u001b[39m\u001b[32m, line 32\u001b[39m, in \u001b[36mdeterministic_agent_pipeline\u001b[39m\u001b[34m(test_app)\u001b[39m\n\u001b[32m     30\u001b[39m \u001b[38;5;28mprint\u001b[39m(\u001b[33m\"\u001b[39m\u001b[33mSystem Summary Report:\u001b[39m\u001b[38;5;130;01m\\n\u001b[39;00m\u001b[33m\"\u001b[39m, report_result)\n\u001b[32m     31\u001b[39m \u001b[38;5;66;03m# Set your Zapier webhook URL (from your environment or hardcoded for demo)\u001b[39;00m\n\u001b[32m---> \u001b[39m\u001b[32m32\u001b[39m zapier_url = \u001b[43mos\u001b[49m.getenv(\u001b[33m\"\u001b[39m\u001b[33mMCP_SERVER_URL_SSE\u001b[39m\u001b[33m\"\u001b[39m, \u001b[33m\"\u001b[39m\u001b[33mhttps://hooks.zapier.com/hooks/catch/your_zapier_id/your_path/\u001b[39m\u001b[33m\"\u001b[39m)\n\u001b[32m     34\u001b[39m zapier_channel = ZapierChannel(webhook_url=zapier_url)\n\u001b[32m     36\u001b[39m \u001b[38;5;66;03m# Send the report via Zapier\u001b[39;00m\n",
      "\u001b[31mNameError\u001b[39m: name 'os' is not defined"
     ]
    }
   ],
   "source": [
    "deterministic_agent_pipeline(test_app)"
   ]
  },
  {
   "cell_type": "code",
   "execution_count": null,
   "id": "eb690a1e",
   "metadata": {},
   "outputs": [],
   "source": []
  },
  {
   "cell_type": "code",
   "execution_count": null,
   "id": "e3be51c5",
   "metadata": {},
   "outputs": [],
   "source": []
  }
 ],
 "metadata": {
  "kernelspec": {
   "display_name": "miniconda3",
   "language": "python",
   "name": "python3"
  },
  "language_info": {
   "codemirror_mode": {
    "name": "ipython",
    "version": 3
   },
   "file_extension": ".py",
   "mimetype": "text/x-python",
   "name": "python",
   "nbconvert_exporter": "python",
   "pygments_lexer": "ipython3",
   "version": "3.11.8"
  }
 },
 "nbformat": 4,
 "nbformat_minor": 5
}
